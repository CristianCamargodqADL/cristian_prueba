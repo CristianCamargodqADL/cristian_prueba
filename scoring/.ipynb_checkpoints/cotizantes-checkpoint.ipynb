{
 "cells": [
  {
   "cell_type": "code",
   "execution_count": 1,
   "id": "39dff6fd",
   "metadata": {},
   "outputs": [
    {
     "data": {
      "application/vnd.jupyter.widget-view+json": {
       "model_id": "8d01f01c2ddf4ae09101092c5c80f0cd",
       "version_major": 2,
       "version_minor": 0
      },
      "text/plain": [
       "VBox()"
      ]
     },
     "metadata": {},
     "output_type": "display_data"
    },
    {
     "name": "stdout",
     "output_type": "stream",
     "text": [
      "Starting Spark application\n"
     ]
    },
    {
     "data": {
      "text/html": [
       "<table>\n",
       "<tr><th>ID</th><th>YARN Application ID</th><th>Kind</th><th>State</th><th>Spark UI</th><th>Driver log</th><th>Current session?</th></tr><tr><td>8</td><td>application_1633956716364_0009</td><td>pyspark</td><td>idle</td><td><a target=\"_blank\" href=\"http://ip-10-18-10-134.us-east-2.compute.internal:20888/proxy/application_1633956716364_0009/\">Link</a></td><td><a target=\"_blank\" href=\"http://ip-10-18-10-107.us-east-2.compute.internal:8042/node/containerlogs/container_1633956716364_0009_01_000001/livy\">Link</a></td><td>✔</td></tr></table>"
      ],
      "text/plain": [
       "<IPython.core.display.HTML object>"
      ]
     },
     "metadata": {},
     "output_type": "display_data"
    },
    {
     "data": {
      "application/vnd.jupyter.widget-view+json": {
       "model_id": "",
       "version_major": 2,
       "version_minor": 0
      },
      "text/plain": [
       "FloatProgress(value=0.0, bar_style='info', description='Progress:', layout=Layout(height='25px', width='50%'),…"
      ]
     },
     "metadata": {},
     "output_type": "display_data"
    },
    {
     "name": "stdout",
     "output_type": "stream",
     "text": [
      "SparkSession available as 'spark'.\n"
     ]
    },
    {
     "data": {
      "application/vnd.jupyter.widget-view+json": {
       "model_id": "",
       "version_major": 2,
       "version_minor": 0
      },
      "text/plain": [
       "FloatProgress(value=0.0, bar_style='info', description='Progress:', layout=Layout(height='25px', width='50%'),…"
      ]
     },
     "metadata": {},
     "output_type": "display_data"
    }
   ],
   "source": [
    "import os\n",
    "import sys\n",
    "import boto3\n",
    "import numpy as np\n",
    "import pandas as pd\n",
    "import pyspark\n",
    "import seaborn as sns\n",
    "from pyspark.sql import SparkSession\n",
    "from pyspark.sql.functions import col,sum,avg,max,count\n",
    "import matplotlib.pyplot as plt\n",
    "pd.set_option('display.max_columns', None)"
   ]
  },
  {
   "cell_type": "code",
   "execution_count": 2,
   "id": "d138ea34",
   "metadata": {},
   "outputs": [
    {
     "data": {
      "application/vnd.jupyter.widget-view+json": {
       "model_id": "8c7f62e836344d75bf0734611e596f97",
       "version_major": 2,
       "version_minor": 0
      },
      "text/plain": [
       "VBox()"
      ]
     },
     "metadata": {},
     "output_type": "display_data"
    },
    {
     "data": {
      "application/vnd.jupyter.widget-view+json": {
       "model_id": "",
       "version_major": 2,
       "version_minor": 0
      },
      "text/plain": [
       "FloatProgress(value=0.0, bar_style='info', description='Progress:', layout=Layout(height='25px', width='50%'),…"
      ]
     },
     "metadata": {},
     "output_type": "display_data"
    }
   ],
   "source": [
    "path = \"s3://data-porv-dev-sandbox-de/estandarizado/productos/po/\"\n",
    "file_aportes = \"productos_po-cta-cuenta-aporte_ods_H\""
   ]
  },
  {
   "cell_type": "code",
   "execution_count": 3,
   "id": "d124ebd2",
   "metadata": {},
   "outputs": [
    {
     "data": {
      "application/vnd.jupyter.widget-view+json": {
       "model_id": "6c19237e1ce24d95972501797bc43738",
       "version_major": 2,
       "version_minor": 0
      },
      "text/plain": [
       "VBox()"
      ]
     },
     "metadata": {},
     "output_type": "display_data"
    },
    {
     "data": {
      "application/vnd.jupyter.widget-view+json": {
       "model_id": "",
       "version_major": 2,
       "version_minor": 0
      },
      "text/plain": [
       "FloatProgress(value=0.0, bar_style='info', description='Progress:', layout=Layout(height='25px', width='50%'),…"
      ]
     },
     "metadata": {},
     "output_type": "display_data"
    }
   ],
   "source": [
    "def creacion_variables(fecha_inicial, fecha_final):\n",
    "    \"\"\" Función para extraer el conteo de cotizantes a PO de la tabla aportes\n",
    "    :param fecha_inicial: Formato: AAAAMM y entre comillas. Tener en cuenta que la historia confiable es de los últimos 4 años\n",
    "    :param fecha_final: Formato: AAAAMM y entre comillas.\n",
    "    :return: Archivo con la tasa de desempleo\n",
    "    \"\"\"\n",
    "    df = spark.read.parquet(path + file_aportes + fecha_inicial + \"_\" + fecha_final)\n",
    "    pd_df = df.groupBy(\"periodo_pago\").agg(count(\"cuenta\").alias(\"Cotizantes\")).toPandas()\n",
    "    pd_df[\"periodo_pago\"] = pd_df.periodo_pago.astype(int).astype(str)\n",
    "    pd_df[\"periodo_anio\"] = pd_df.periodo_pago.str[:4]\n",
    "    pd_df[\"periodo_mes\"] = pd_df.periodo_pago.str[4:]\n",
    "    pd_df.sort_values([\"periodo_anio\",\"periodo_mes\"], ascending=[True, True] ,inplace=True)\n",
    "    pd_df = pd_df[[\"periodo_pago\", \"Cotizantes\"]]\n",
    "    pd_df[\"periodo_pago\"] = pd_df.periodo_pago.astype(int)\n",
    "    pd_df = pd_df[(pd_df['periodo_pago'] >= int(\"201801\")) & (pd_df['periodo_pago'] <= int(fecha_final)-2)]\n",
    "    pd_df['Fecha'] = pd.date_range(start='31/01/2018', periods=len(pd_df), freq='M') \n",
    "    hist = pd.read_csv(\"s3://data-porv-dev-sandbox/caso-uso/caso3/Informe_SAR_1051108_09042021_1013.csv\", header=0, sep=';', encoding='utf-8')\n",
    "    hist = hist.iloc[12:]\n",
    "    hist['Fecha'] = pd.date_range(start='31/01/2001', periods=len(hist), freq='M') \n",
    "    hist=hist[['Fecha','NUM_COTIZANTES']]\n",
    "    hist.rename(columns={'NUM_COTIZANTES':'Cotizantes'}, inplace = True)\n",
    "    cot_def=pd.concat([hist, pd_df])\n",
    "    cot_def=cot_def[['Fecha','Cotizantes']]\n",
    "    cot_def.to_csv(\"s3://data-porv-dev-sandbox/caso-uso/data-trends/data/mercado-laboral/\"+\"cotizantes\"+str(int(fecha_final))+\".csv\",\n",
    "                        sep = ';',\n",
    "                        decimal='.',\n",
    "                        index = False)\n",
    "    return cot_def"
   ]
  },
  {
   "cell_type": "code",
   "execution_count": 4,
   "id": "899f882d",
   "metadata": {},
   "outputs": [
    {
     "data": {
      "application/vnd.jupyter.widget-view+json": {
       "model_id": "a4e2c9cf97b7418baada5fd1753906d9",
       "version_major": 2,
       "version_minor": 0
      },
      "text/plain": [
       "VBox()"
      ]
     },
     "metadata": {},
     "output_type": "display_data"
    },
    {
     "data": {
      "application/vnd.jupyter.widget-view+json": {
       "model_id": "",
       "version_major": 2,
       "version_minor": 0
      },
      "text/plain": [
       "FloatProgress(value=0.0, bar_style='info', description='Progress:', layout=Layout(height='25px', width='50%'),…"
      ]
     },
     "metadata": {},
     "output_type": "display_data"
    }
   ],
   "source": [
    "df = creacion_variables(\"201706\", \"202106\")"
   ]
  },
  {
   "cell_type": "code",
   "execution_count": 5,
   "id": "289b3afc",
   "metadata": {},
   "outputs": [
    {
     "data": {
      "application/vnd.jupyter.widget-view+json": {
       "model_id": "4d4d686f9ce74102820bd40c52a17575",
       "version_major": 2,
       "version_minor": 0
      },
      "text/plain": [
       "VBox()"
      ]
     },
     "metadata": {},
     "output_type": "display_data"
    },
    {
     "data": {
      "application/vnd.jupyter.widget-view+json": {
       "model_id": "",
       "version_major": 2,
       "version_minor": 0
      },
      "text/plain": [
       "FloatProgress(value=0.0, bar_style='info', description='Progress:', layout=Layout(height='25px', width='50%'),…"
      ]
     },
     "metadata": {},
     "output_type": "display_data"
    },
    {
     "name": "stdout",
     "output_type": "stream",
     "text": [
      "         Fecha  Cotizantes\n",
      "12  2001-01-31      860340\n",
      "13  2001-02-28      880399\n",
      "14  2001-03-31      897363\n",
      "15  2001-04-30      906158\n",
      "16  2001-05-31      910078\n",
      "..         ...         ...\n",
      "117 2020-12-31     4440060\n",
      "151 2021-01-31     4305680\n",
      "245 2021-02-28     4190709\n",
      "179 2021-03-31     4315800\n",
      "122 2021-04-30     4270567\n",
      "\n",
      "[244 rows x 2 columns]"
     ]
    }
   ],
   "source": [
    "df"
   ]
  }
 ],
 "metadata": {
  "kernelspec": {
   "display_name": "PySpark",
   "language": "",
   "name": "pysparkkernel"
  },
  "language_info": {
   "codemirror_mode": {
    "name": "python",
    "version": 2
   },
   "mimetype": "text/x-python",
   "name": "pyspark",
   "pygments_lexer": "python2"
  }
 },
 "nbformat": 4,
 "nbformat_minor": 5
}
